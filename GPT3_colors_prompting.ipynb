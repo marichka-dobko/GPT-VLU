{
  "cells": [
    {
      "cell_type": "code",
      "execution_count": 1,
      "metadata": {
        "colab": {
          "base_uri": "https://localhost:8080/"
        },
        "id": "fTXJg5gh8Gyt",
        "outputId": "a2292877-a257-4fd2-b3dd-1c2e46dd3bf4"
      },
      "outputs": [
        {
          "output_type": "stream",
          "name": "stdout",
          "text": [
            "Looking in indexes: https://pypi.org/simple, https://us-python.pkg.dev/colab-wheels/public/simple/\n",
            "Collecting transformers[torch]\n",
            "  Downloading transformers-4.29.2-py3-none-any.whl (7.1 MB)\n",
            "\u001b[2K     \u001b[90m━━━━━━━━━━━━━━━━━━━━━━━━━━━━━━━━━━━━━━━━\u001b[0m \u001b[32m7.1/7.1 MB\u001b[0m \u001b[31m43.0 MB/s\u001b[0m eta \u001b[36m0:00:00\u001b[0m\n",
            "\u001b[?25hRequirement already satisfied: filelock in /usr/local/lib/python3.10/dist-packages (from transformers[torch]) (3.12.0)\n",
            "Collecting huggingface-hub<1.0,>=0.14.1 (from transformers[torch])\n",
            "  Downloading huggingface_hub-0.14.1-py3-none-any.whl (224 kB)\n",
            "\u001b[2K     \u001b[90m━━━━━━━━━━━━━━━━━━━━━━━━━━━━━━━━━━━━━━\u001b[0m \u001b[32m224.5/224.5 kB\u001b[0m \u001b[31m17.3 MB/s\u001b[0m eta \u001b[36m0:00:00\u001b[0m\n",
            "\u001b[?25hRequirement already satisfied: numpy>=1.17 in /usr/local/lib/python3.10/dist-packages (from transformers[torch]) (1.22.4)\n",
            "Requirement already satisfied: packaging>=20.0 in /usr/local/lib/python3.10/dist-packages (from transformers[torch]) (23.1)\n",
            "Requirement already satisfied: pyyaml>=5.1 in /usr/local/lib/python3.10/dist-packages (from transformers[torch]) (6.0)\n",
            "Requirement already satisfied: regex!=2019.12.17 in /usr/local/lib/python3.10/dist-packages (from transformers[torch]) (2022.10.31)\n",
            "Requirement already satisfied: requests in /usr/local/lib/python3.10/dist-packages (from transformers[torch]) (2.27.1)\n",
            "Collecting tokenizers!=0.11.3,<0.14,>=0.11.1 (from transformers[torch])\n",
            "  Downloading tokenizers-0.13.3-cp310-cp310-manylinux_2_17_x86_64.manylinux2014_x86_64.whl (7.8 MB)\n",
            "\u001b[2K     \u001b[90m━━━━━━━━━━━━━━━━━━━━━━━━━━━━━━━━━━━━━━━━\u001b[0m \u001b[32m7.8/7.8 MB\u001b[0m \u001b[31m63.2 MB/s\u001b[0m eta \u001b[36m0:00:00\u001b[0m\n",
            "\u001b[?25hRequirement already satisfied: tqdm>=4.27 in /usr/local/lib/python3.10/dist-packages (from transformers[torch]) (4.65.0)\n",
            "Requirement already satisfied: torch!=1.12.0,>=1.9 in /usr/local/lib/python3.10/dist-packages (from transformers[torch]) (2.0.0+cu118)\n",
            "Collecting accelerate>=0.19.0 (from transformers[torch])\n",
            "  Downloading accelerate-0.19.0-py3-none-any.whl (219 kB)\n",
            "\u001b[2K     \u001b[90m━━━━━━━━━━━━━━━━━━━━━━━━━━━━━━━━━━━━━━\u001b[0m \u001b[32m219.1/219.1 kB\u001b[0m \u001b[31m18.2 MB/s\u001b[0m eta \u001b[36m0:00:00\u001b[0m\n",
            "\u001b[?25hRequirement already satisfied: psutil in /usr/local/lib/python3.10/dist-packages (from accelerate>=0.19.0->transformers[torch]) (5.9.5)\n",
            "Requirement already satisfied: fsspec in /usr/local/lib/python3.10/dist-packages (from huggingface-hub<1.0,>=0.14.1->transformers[torch]) (2023.4.0)\n",
            "Requirement already satisfied: typing-extensions>=3.7.4.3 in /usr/local/lib/python3.10/dist-packages (from huggingface-hub<1.0,>=0.14.1->transformers[torch]) (4.5.0)\n",
            "Requirement already satisfied: sympy in /usr/local/lib/python3.10/dist-packages (from torch!=1.12.0,>=1.9->transformers[torch]) (1.11.1)\n",
            "Requirement already satisfied: networkx in /usr/local/lib/python3.10/dist-packages (from torch!=1.12.0,>=1.9->transformers[torch]) (3.1)\n",
            "Requirement already satisfied: jinja2 in /usr/local/lib/python3.10/dist-packages (from torch!=1.12.0,>=1.9->transformers[torch]) (3.1.2)\n",
            "Requirement already satisfied: triton==2.0.0 in /usr/local/lib/python3.10/dist-packages (from torch!=1.12.0,>=1.9->transformers[torch]) (2.0.0)\n",
            "Requirement already satisfied: cmake in /usr/local/lib/python3.10/dist-packages (from triton==2.0.0->torch!=1.12.0,>=1.9->transformers[torch]) (3.25.2)\n",
            "Requirement already satisfied: lit in /usr/local/lib/python3.10/dist-packages (from triton==2.0.0->torch!=1.12.0,>=1.9->transformers[torch]) (16.0.3)\n",
            "Requirement already satisfied: urllib3<1.27,>=1.21.1 in /usr/local/lib/python3.10/dist-packages (from requests->transformers[torch]) (1.26.15)\n",
            "Requirement already satisfied: certifi>=2017.4.17 in /usr/local/lib/python3.10/dist-packages (from requests->transformers[torch]) (2022.12.7)\n",
            "Requirement already satisfied: charset-normalizer~=2.0.0 in /usr/local/lib/python3.10/dist-packages (from requests->transformers[torch]) (2.0.12)\n",
            "Requirement already satisfied: idna<4,>=2.5 in /usr/local/lib/python3.10/dist-packages (from requests->transformers[torch]) (3.4)\n",
            "Requirement already satisfied: MarkupSafe>=2.0 in /usr/local/lib/python3.10/dist-packages (from jinja2->torch!=1.12.0,>=1.9->transformers[torch]) (2.1.2)\n",
            "Requirement already satisfied: mpmath>=0.19 in /usr/local/lib/python3.10/dist-packages (from sympy->torch!=1.12.0,>=1.9->transformers[torch]) (1.3.0)\n",
            "Installing collected packages: tokenizers, huggingface-hub, transformers, accelerate\n",
            "Successfully installed accelerate-0.19.0 huggingface-hub-0.14.1 tokenizers-0.13.3 transformers-4.29.2\n",
            "Looking in indexes: https://pypi.org/simple, https://us-python.pkg.dev/colab-wheels/public/simple/\n",
            "Collecting openai\n",
            "  Downloading openai-0.27.6-py3-none-any.whl (71 kB)\n",
            "\u001b[2K     \u001b[90m━━━━━━━━━━━━━━━━━━━━━━━━━━━━━━━━━━━━━━━━\u001b[0m \u001b[32m71.9/71.9 kB\u001b[0m \u001b[31m2.8 MB/s\u001b[0m eta \u001b[36m0:00:00\u001b[0m\n",
            "\u001b[?25hRequirement already satisfied: requests>=2.20 in /usr/local/lib/python3.10/dist-packages (from openai) (2.27.1)\n",
            "Requirement already satisfied: tqdm in /usr/local/lib/python3.10/dist-packages (from openai) (4.65.0)\n",
            "Collecting aiohttp (from openai)\n",
            "  Downloading aiohttp-3.8.4-cp310-cp310-manylinux_2_17_x86_64.manylinux2014_x86_64.whl (1.0 MB)\n",
            "\u001b[2K     \u001b[90m━━━━━━━━━━━━━━━━━━━━━━━━━━━━━━━━━━━━━━━━\u001b[0m \u001b[32m1.0/1.0 MB\u001b[0m \u001b[31m18.9 MB/s\u001b[0m eta \u001b[36m0:00:00\u001b[0m\n",
            "\u001b[?25hRequirement already satisfied: urllib3<1.27,>=1.21.1 in /usr/local/lib/python3.10/dist-packages (from requests>=2.20->openai) (1.26.15)\n",
            "Requirement already satisfied: certifi>=2017.4.17 in /usr/local/lib/python3.10/dist-packages (from requests>=2.20->openai) (2022.12.7)\n",
            "Requirement already satisfied: charset-normalizer~=2.0.0 in /usr/local/lib/python3.10/dist-packages (from requests>=2.20->openai) (2.0.12)\n",
            "Requirement already satisfied: idna<4,>=2.5 in /usr/local/lib/python3.10/dist-packages (from requests>=2.20->openai) (3.4)\n",
            "Requirement already satisfied: attrs>=17.3.0 in /usr/local/lib/python3.10/dist-packages (from aiohttp->openai) (23.1.0)\n",
            "Collecting multidict<7.0,>=4.5 (from aiohttp->openai)\n",
            "  Downloading multidict-6.0.4-cp310-cp310-manylinux_2_17_x86_64.manylinux2014_x86_64.whl (114 kB)\n",
            "\u001b[2K     \u001b[90m━━━━━━━━━━━━━━━━━━━━━━━━━━━━━━━━━━━━━━\u001b[0m \u001b[32m114.5/114.5 kB\u001b[0m \u001b[31m10.8 MB/s\u001b[0m eta \u001b[36m0:00:00\u001b[0m\n",
            "\u001b[?25hCollecting async-timeout<5.0,>=4.0.0a3 (from aiohttp->openai)\n",
            "  Downloading async_timeout-4.0.2-py3-none-any.whl (5.8 kB)\n",
            "Collecting yarl<2.0,>=1.0 (from aiohttp->openai)\n",
            "  Downloading yarl-1.9.2-cp310-cp310-manylinux_2_17_x86_64.manylinux2014_x86_64.whl (268 kB)\n",
            "\u001b[2K     \u001b[90m━━━━━━━━━━━━━━━━━━━━━━━━━━━━━━━━━━━━━━\u001b[0m \u001b[32m268.8/268.8 kB\u001b[0m \u001b[31m28.1 MB/s\u001b[0m eta \u001b[36m0:00:00\u001b[0m\n",
            "\u001b[?25hCollecting frozenlist>=1.1.1 (from aiohttp->openai)\n",
            "  Downloading frozenlist-1.3.3-cp310-cp310-manylinux_2_5_x86_64.manylinux1_x86_64.manylinux_2_17_x86_64.manylinux2014_x86_64.whl (149 kB)\n",
            "\u001b[2K     \u001b[90m━━━━━━━━━━━━━━━━━━━━━━━━━━━━━━━━━━━━━━\u001b[0m \u001b[32m149.6/149.6 kB\u001b[0m \u001b[31m15.6 MB/s\u001b[0m eta \u001b[36m0:00:00\u001b[0m\n",
            "\u001b[?25hCollecting aiosignal>=1.1.2 (from aiohttp->openai)\n",
            "  Downloading aiosignal-1.3.1-py3-none-any.whl (7.6 kB)\n",
            "Installing collected packages: multidict, frozenlist, async-timeout, yarl, aiosignal, aiohttp, openai\n",
            "Successfully installed aiohttp-3.8.4 aiosignal-1.3.1 async-timeout-4.0.2 frozenlist-1.3.3 multidict-6.0.4 openai-0.27.6 yarl-1.9.2\n"
          ]
        }
      ],
      "source": [
        "!pip install 'transformers[torch]'\n",
        "!pip install --upgrade openai\n"
      ]
    },
    {
      "cell_type": "code",
      "execution_count": 2,
      "metadata": {
        "colab": {
          "base_uri": "https://localhost:8080/"
        },
        "id": "tJoTWMdN-JJR",
        "outputId": "f2f14ede-a335-47fc-8136-1377a72bd67b"
      },
      "outputs": [
        {
          "output_type": "stream",
          "name": "stdout",
          "text": [
            "Mounted at /content/gdrive\n"
          ]
        }
      ],
      "source": [
        "# Mount google drive\n",
        "from google.colab import drive\n",
        "drive.mount('/content/gdrive')"
      ]
    },
    {
      "cell_type": "code",
      "execution_count": 3,
      "metadata": {
        "id": "aA5TxiqC-IdB"
      },
      "outputs": [],
      "source": [
        "PROJECT_ROOT = f\"/content/gdrive/MyDrive/GPT-VLU\"\n",
        "%load_ext autoreload\n",
        "%autoreload 2"
      ]
    },
    {
      "cell_type": "code",
      "execution_count": 4,
      "metadata": {
        "id": "IHddyAPgQ4Ip"
      },
      "outputs": [],
      "source": [
        "import sys, os\n",
        "sys.path.insert(0, PROJECT_ROOT)"
      ]
    },
    {
      "cell_type": "code",
      "execution_count": 5,
      "metadata": {
        "id": "L3tW8Dj_7TM9"
      },
      "outputs": [],
      "source": [
        "from transformers import pipeline, set_seed\n",
        "\n",
        "from utils.setup_utils import parse_and_validate_df, DFExperimentInfo\n",
        "\n",
        "import torch\n",
        "import numpy as np\n",
        "from tqdm import tqdm\n",
        "import pandas as pd\n",
        "from dataclasses import fields\n",
        "import openai\n",
        "from sklearn.metrics import accuracy_score"
      ]
    },
    {
      "cell_type": "code",
      "execution_count": 6,
      "metadata": {
        "id": "6d3EwKgAY5Us"
      },
      "outputs": [],
      "source": [
        "# OPENAI API KEY\n",
        "\n",
        "openai.api_key = \"\""
      ]
    },
    {
      "cell_type": "markdown",
      "metadata": {
        "id": "4bVTZsuZZX2t"
      },
      "source": [
        "## Load model"
      ]
    },
    {
      "cell_type": "code",
      "execution_count": 7,
      "metadata": {
        "id": "gs5XfCcmZZWA"
      },
      "outputs": [],
      "source": [
        "# list models\n",
        "# models = openai.Model.list()"
      ]
    },
    {
      "cell_type": "code",
      "execution_count": 8,
      "metadata": {
        "id": "r4jUG7k3ZbV8"
      },
      "outputs": [],
      "source": [
        "# completion = openai.Completion.create(model=\"text-davinci-003\", prompt=\"Hello world\")\n",
        "res = openai.Completion.create(\n",
        "  model=\"text-davinci-003\",\n",
        "  prompt=\"Say this is a test\",\n",
        "  max_tokens=3,\n",
        "  # temperature=0\n",
        ")"
      ]
    },
    {
      "cell_type": "code",
      "execution_count": null,
      "metadata": {
        "id": "aBgRzyPblzTU"
      },
      "outputs": [],
      "source": [
        "res = openai.Embedding.create(\n",
        "  model=\"text-embedding-ada-002\",\n",
        "  input=\"Say this is a test\",\n",
        "  max_tokens=3,\n",
        ")"
      ]
    },
    {
      "cell_type": "code",
      "execution_count": null,
      "metadata": {
        "colab": {
          "base_uri": "https://localhost:8080/"
        },
        "id": "8vRVkfGGtGVr",
        "outputId": "65b99b05-67b1-49ee-fcda-5fdf69716e0f"
      },
      "outputs": [
        {
          "data": {
            "text/plain": [
              "(1536,)"
            ]
          },
          "execution_count": 22,
          "metadata": {},
          "output_type": "execute_result"
        }
      ],
      "source": [
        "np.array(res['data'][0]['embedding']).shape"
      ]
    },
    {
      "cell_type": "markdown",
      "metadata": {
        "id": "REr12aRLZZne"
      },
      "source": [
        "## Load data"
      ]
    },
    {
      "cell_type": "code",
      "execution_count": 9,
      "metadata": {
        "colab": {
          "base_uri": "https://localhost:8080/",
          "height": 206
        },
        "id": "-MhibS-88WUV",
        "outputId": "10407237-53ec-4646-9fb8-7ab168b97f82"
      },
      "outputs": [
        {
          "output_type": "execute_result",
          "data": {
            "text/plain": [
              "     object   color\n",
              "0       ash    grey\n",
              "1    banana  yellow\n",
              "2    beaver   brown\n",
              "3     blood     red\n",
              "4  broccoli   green"
            ],
            "text/html": [
              "\n",
              "  <div id=\"df-9049fca0-9c09-4c35-8938-5bb40a49068e\">\n",
              "    <div class=\"colab-df-container\">\n",
              "      <div>\n",
              "<style scoped>\n",
              "    .dataframe tbody tr th:only-of-type {\n",
              "        vertical-align: middle;\n",
              "    }\n",
              "\n",
              "    .dataframe tbody tr th {\n",
              "        vertical-align: top;\n",
              "    }\n",
              "\n",
              "    .dataframe thead th {\n",
              "        text-align: right;\n",
              "    }\n",
              "</style>\n",
              "<table border=\"1\" class=\"dataframe\">\n",
              "  <thead>\n",
              "    <tr style=\"text-align: right;\">\n",
              "      <th></th>\n",
              "      <th>object</th>\n",
              "      <th>color</th>\n",
              "    </tr>\n",
              "  </thead>\n",
              "  <tbody>\n",
              "    <tr>\n",
              "      <th>0</th>\n",
              "      <td>ash</td>\n",
              "      <td>grey</td>\n",
              "    </tr>\n",
              "    <tr>\n",
              "      <th>1</th>\n",
              "      <td>banana</td>\n",
              "      <td>yellow</td>\n",
              "    </tr>\n",
              "    <tr>\n",
              "      <th>2</th>\n",
              "      <td>beaver</td>\n",
              "      <td>brown</td>\n",
              "    </tr>\n",
              "    <tr>\n",
              "      <th>3</th>\n",
              "      <td>blood</td>\n",
              "      <td>red</td>\n",
              "    </tr>\n",
              "    <tr>\n",
              "      <th>4</th>\n",
              "      <td>broccoli</td>\n",
              "      <td>green</td>\n",
              "    </tr>\n",
              "  </tbody>\n",
              "</table>\n",
              "</div>\n",
              "      <button class=\"colab-df-convert\" onclick=\"convertToInteractive('df-9049fca0-9c09-4c35-8938-5bb40a49068e')\"\n",
              "              title=\"Convert this dataframe to an interactive table.\"\n",
              "              style=\"display:none;\">\n",
              "        \n",
              "  <svg xmlns=\"http://www.w3.org/2000/svg\" height=\"24px\"viewBox=\"0 0 24 24\"\n",
              "       width=\"24px\">\n",
              "    <path d=\"M0 0h24v24H0V0z\" fill=\"none\"/>\n",
              "    <path d=\"M18.56 5.44l.94 2.06.94-2.06 2.06-.94-2.06-.94-.94-2.06-.94 2.06-2.06.94zm-11 1L8.5 8.5l.94-2.06 2.06-.94-2.06-.94L8.5 2.5l-.94 2.06-2.06.94zm10 10l.94 2.06.94-2.06 2.06-.94-2.06-.94-.94-2.06-.94 2.06-2.06.94z\"/><path d=\"M17.41 7.96l-1.37-1.37c-.4-.4-.92-.59-1.43-.59-.52 0-1.04.2-1.43.59L10.3 9.45l-7.72 7.72c-.78.78-.78 2.05 0 2.83L4 21.41c.39.39.9.59 1.41.59.51 0 1.02-.2 1.41-.59l7.78-7.78 2.81-2.81c.8-.78.8-2.07 0-2.86zM5.41 20L4 18.59l7.72-7.72 1.47 1.35L5.41 20z\"/>\n",
              "  </svg>\n",
              "      </button>\n",
              "      \n",
              "  <style>\n",
              "    .colab-df-container {\n",
              "      display:flex;\n",
              "      flex-wrap:wrap;\n",
              "      gap: 12px;\n",
              "    }\n",
              "\n",
              "    .colab-df-convert {\n",
              "      background-color: #E8F0FE;\n",
              "      border: none;\n",
              "      border-radius: 50%;\n",
              "      cursor: pointer;\n",
              "      display: none;\n",
              "      fill: #1967D2;\n",
              "      height: 32px;\n",
              "      padding: 0 0 0 0;\n",
              "      width: 32px;\n",
              "    }\n",
              "\n",
              "    .colab-df-convert:hover {\n",
              "      background-color: #E2EBFA;\n",
              "      box-shadow: 0px 1px 2px rgba(60, 64, 67, 0.3), 0px 1px 3px 1px rgba(60, 64, 67, 0.15);\n",
              "      fill: #174EA6;\n",
              "    }\n",
              "\n",
              "    [theme=dark] .colab-df-convert {\n",
              "      background-color: #3B4455;\n",
              "      fill: #D2E3FC;\n",
              "    }\n",
              "\n",
              "    [theme=dark] .colab-df-convert:hover {\n",
              "      background-color: #434B5C;\n",
              "      box-shadow: 0px 1px 3px 1px rgba(0, 0, 0, 0.15);\n",
              "      filter: drop-shadow(0px 1px 2px rgba(0, 0, 0, 0.3));\n",
              "      fill: #FFFFFF;\n",
              "    }\n",
              "  </style>\n",
              "\n",
              "      <script>\n",
              "        const buttonEl =\n",
              "          document.querySelector('#df-9049fca0-9c09-4c35-8938-5bb40a49068e button.colab-df-convert');\n",
              "        buttonEl.style.display =\n",
              "          google.colab.kernel.accessAllowed ? 'block' : 'none';\n",
              "\n",
              "        async function convertToInteractive(key) {\n",
              "          const element = document.querySelector('#df-9049fca0-9c09-4c35-8938-5bb40a49068e');\n",
              "          const dataTable =\n",
              "            await google.colab.kernel.invokeFunction('convertToInteractive',\n",
              "                                                     [key], {});\n",
              "          if (!dataTable) return;\n",
              "\n",
              "          const docLinkHtml = 'Like what you see? Visit the ' +\n",
              "            '<a target=\"_blank\" href=https://colab.research.google.com/notebooks/data_table.ipynb>data table notebook</a>'\n",
              "            + ' to learn more about interactive tables.';\n",
              "          element.innerHTML = '';\n",
              "          dataTable['output_type'] = 'display_data';\n",
              "          await google.colab.output.renderOutput(dataTable, element);\n",
              "          const docLink = document.createElement('div');\n",
              "          docLink.innerHTML = docLinkHtml;\n",
              "          element.appendChild(docLink);\n",
              "        }\n",
              "      </script>\n",
              "    </div>\n",
              "  </div>\n",
              "  "
            ]
          },
          "metadata": {},
          "execution_count": 9
        }
      ],
      "source": [
        "# Loading data\n",
        "dataset_path = '/content/gdrive/MyDrive/GPT-VLU/datasets/color-concrete-objects.csv'\n",
        "\n",
        "task = 'choice'\n",
        "df = pd.read_csv(dataset_path)\n",
        "df.head()"
      ]
    },
    {
      "cell_type": "code",
      "execution_count": 10,
      "metadata": {
        "id": "4p-YE_dilpHj"
      },
      "outputs": [],
      "source": [
        "color_options = df['color'].unique()"
      ]
    },
    {
      "cell_type": "markdown",
      "metadata": {
        "id": "9V8jaOThOVsr"
      },
      "source": [
        "## Colors"
      ]
    },
    {
      "cell_type": "code",
      "execution_count": 11,
      "metadata": {
        "id": "HqM2be9ZOXq9"
      },
      "outputs": [],
      "source": [
        "colors_orig_prompts = [\n",
        "    'A picture of a MASK WORD',\n",
        "    'A photo of a MASK WORD',\n",
        "    'A photo of the MASK WORD',\n",
        "    'A MASK WORD',\n",
        "    'MASK WORD',\n",
        "    'The normal color of a WORD is MASK',\n",
        "    'WORD usually has a MASK color',\n",
        "    'WORDs have a MASK color',\n",
        "    'What is a color of a WORD? MASK',\n",
        "    'The natural color of a WORD is MASK' \n",
        "  ]"
      ]
    },
    {
      "cell_type": "markdown",
      "metadata": {
        "id": "dbwNfEIpeV0W"
      },
      "source": [
        "## Stroop probing scoring "
      ]
    },
    {
      "cell_type": "code",
      "execution_count": 18,
      "metadata": {
        "id": "lyxAUsmYeVcZ"
      },
      "outputs": [],
      "source": [
        "def score_model(orig_prompts):\n",
        "  y_true = []\n",
        "  y_pred = []\n",
        "\n",
        "  for index, row in tqdm(df.iterrows()):\n",
        "    w = row['object']\n",
        "    for p in orig_prompts:\n",
        "      p = p.replace(\"WORD\", w)\n",
        "\n",
        "      options_results = [] \n",
        "      for option in color_options:\n",
        "        input_prompt = p.replace(\"MASK\", option)\n",
        "\n",
        "        # Extract features from GPT3 \n",
        "        res = openai.Embedding.create(\n",
        "          model=\"text-similarity-davinci-001\",\n",
        "          input=input_prompt,\n",
        "          max_tokens=3,\n",
        "        )\n",
        "        v = torch.tensor(res['data'][0]['embedding']).squeeze().flatten()\n",
        "        v /= v.norm(p=2, dim=-1, keepdim=True)\n",
        "        v = v.cpu().numpy()\n",
        "        options_results.append(v)\n",
        "\n",
        "      base = torch.tensor(openai.Embedding.create(\n",
        "          model=\"text-similarity-davinci-001\",\n",
        "          input=p.replace(\"MASK\", ''),\n",
        "          max_tokens=3,\n",
        "        )['data'][0]['embedding']).squeeze().flatten()\n",
        "\n",
        "      base /= base.norm(p=2, dim=-1, keepdim=True)\n",
        "      base = base.cpu().numpy()\n",
        "\n",
        "      scores = np.array(options_results) @ np.expand_dims(base, -1)\n",
        "      ind_class = np.argmax(scores)\n",
        "      y_pred.append(color_options[ind_class])\n",
        "      y_true.append(row['color'])\n",
        "\n",
        "  return y_true, y_pred\n",
        "\n"
      ]
    },
    {
      "cell_type": "code",
      "execution_count": 19,
      "metadata": {
        "colab": {
          "base_uri": "https://localhost:8080/"
        },
        "id": "l80iBy8jeZgG",
        "outputId": "2f78f65d-c243-472e-ea00-11dee2698880"
      },
      "outputs": [
        {
          "output_type": "stream",
          "name": "stderr",
          "text": [
            "52it [26:11, 30.22s/it]\n"
          ]
        },
        {
          "output_type": "execute_result",
          "data": {
            "text/plain": [
              "0.5634615384615385"
            ]
          },
          "metadata": {},
          "execution_count": 19
        }
      ],
      "source": [
        "y_true, y_pred = score_model(colors_orig_prompts)\n",
        "accuracy_score(y_true, y_pred)"
      ]
    },
    {
      "cell_type": "markdown",
      "metadata": {
        "id": "OfDoj1p7eZ2f"
      },
      "source": [
        "### Autoregressive scoring"
      ]
    },
    {
      "cell_type": "code",
      "execution_count": null,
      "metadata": {
        "id": "PWYYgoFwci8A"
      },
      "outputs": [],
      "source": [
        "def retrieve_results_options(orig_prompts, max_new=1):\n",
        "  y_true, y_pred = [], []\n",
        "\n",
        "  for index, row in df.iloc[1:].iterrows():\n",
        "    w = row['object']\n",
        "    gt = row['color']\n",
        "\n",
        "    for p in orig_prompts:\n",
        "      p = p.replace(\"WORD\", w)\n",
        "      llm_prompt = '. Choose one word from: {} to replace MASK'.format(color_options)\n",
        "      input_prompt = p + llm_prompt\n",
        "\n",
        "      res = openai.Completion.create(\n",
        "          model=\"text-davinci-003\",\n",
        "          prompt=input_prompt,\n",
        "          max_tokens=2 + max_new,\n",
        "        )\n",
        "      out_p = res['choices'][0]['text'].replace('\\n', '').replace(' ', '').lower()\n",
        "      y_pred.append(out_p)\n",
        "      y_true.append(gt)\n",
        "      \n",
        "  return y_true, y_pred\n",
        "    \n"
      ]
    },
    {
      "cell_type": "code",
      "execution_count": null,
      "metadata": {
        "colab": {
          "base_uri": "https://localhost:8080/"
        },
        "id": "QcqWXhYWlbMa",
        "outputId": "b2a2dce5-9196-4320-a05e-d56798385772"
      },
      "outputs": [
        {
          "data": {
            "text/plain": [
              "0.707843137254902"
            ]
          },
          "execution_count": 13,
          "metadata": {},
          "output_type": "execute_result"
        }
      ],
      "source": [
        "y_true, y_pred = retrieve_results_options(colors_orig_prompts)\n",
        "accuracy_score(y_true, y_pred)"
      ]
    },
    {
      "cell_type": "code",
      "execution_count": null,
      "metadata": {
        "id": "bt7c4MO5ltC4"
      },
      "outputs": [],
      "source": [
        "def retrieve_results_nooptions(extra_llm_prompt, orig_prompts, max_new=1):\n",
        "  y_true, y_pred = [], []\n",
        "\n",
        "  for index, row in df.iloc[1:].iterrows():\n",
        "    w = row['object']\n",
        "    gt = row['color']\n",
        "\n",
        "    for p in orig_prompts:\n",
        "      p = p.replace(\"WORD\", w)\n",
        "      input_prompt = p + extra_llm_prompt\n",
        "      res = openai.Completion.create(\n",
        "          model=\"text-davinci-003\",\n",
        "          prompt=input_prompt,\n",
        "          max_tokens=2 + max_new,\n",
        "        )\n",
        "      out_p = res['choices'][0]['text'].replace('\\n', '').replace(' ', '').lower()\n",
        "      y_pred.append(out_p)\n",
        "      y_true.append(gt)\n",
        "      \n",
        "  return y_true, y_pred\n",
        "\n",
        "   "
      ]
    },
    {
      "cell_type": "markdown",
      "metadata": {
        "id": "O_pg82wjnWmP"
      },
      "source": [
        "# PROMPT: instead of MASK should be"
      ]
    },
    {
      "cell_type": "code",
      "execution_count": null,
      "metadata": {
        "colab": {
          "base_uri": "https://localhost:8080/"
        },
        "id": "bT5_-RMLnRUC",
        "outputId": "8ba3e25b-92c2-4f53-c536-4b577f421285"
      },
      "outputs": [
        {
          "name": "stdout",
          "output_type": "stream",
          "text": [
            "A picture of a MASK banana. instead of MASK should be\n",
            "A photo of a MASK banana. instead of MASK should be\n",
            "A photo of the MASK banana. instead of MASK should be\n",
            "A MASK banana. instead of MASK should be\n",
            "MASK banana. instead of MASK should be\n",
            "The normal color of a banana is MASK. instead of MASK should be\n",
            "banana usually has a MASK color. instead of MASK should be\n",
            "bananas have a MASK color. instead of MASK should be\n",
            "What is a color of a banana? MASK. instead of MASK should be\n",
            "The natural color of a banana is MASK. instead of MASK should be\n",
            "A picture of a MASK beaver. instead of MASK should be\n",
            "A photo of a MASK beaver. instead of MASK should be\n",
            "A photo of the MASK beaver. instead of MASK should be\n",
            "A MASK beaver. instead of MASK should be\n",
            "MASK beaver. instead of MASK should be\n",
            "The normal color of a beaver is MASK. instead of MASK should be\n",
            "beaver usually has a MASK color. instead of MASK should be\n",
            "beavers have a MASK color. instead of MASK should be\n",
            "What is a color of a beaver? MASK. instead of MASK should be\n",
            "The natural color of a beaver is MASK. instead of MASK should be\n",
            "A picture of a MASK blood. instead of MASK should be\n",
            "A photo of a MASK blood. instead of MASK should be\n",
            "A photo of the MASK blood. instead of MASK should be\n",
            "A MASK blood. instead of MASK should be\n",
            "MASK blood. instead of MASK should be\n",
            "The normal color of a blood is MASK. instead of MASK should be\n",
            "blood usually has a MASK color. instead of MASK should be\n",
            "bloods have a MASK color. instead of MASK should be\n",
            "What is a color of a blood? MASK. instead of MASK should be\n",
            "The natural color of a blood is MASK. instead of MASK should be\n",
            "A picture of a MASK broccoli. instead of MASK should be\n",
            "A photo of a MASK broccoli. instead of MASK should be\n",
            "A photo of the MASK broccoli. instead of MASK should be\n",
            "A MASK broccoli. instead of MASK should be\n",
            "MASK broccoli. instead of MASK should be\n",
            "The normal color of a broccoli is MASK. instead of MASK should be\n",
            "broccoli usually has a MASK color. instead of MASK should be\n",
            "broccolis have a MASK color. instead of MASK should be\n",
            "What is a color of a broccoli? MASK. instead of MASK should be\n",
            "The natural color of a broccoli is MASK. instead of MASK should be\n",
            "A picture of a MASK cardboard. instead of MASK should be\n",
            "A photo of a MASK cardboard. instead of MASK should be\n",
            "A photo of the MASK cardboard. instead of MASK should be\n",
            "A MASK cardboard. instead of MASK should be\n",
            "MASK cardboard. instead of MASK should be\n",
            "The normal color of a cardboard is MASK. instead of MASK should be\n",
            "cardboard usually has a MASK color. instead of MASK should be\n",
            "cardboards have a MASK color. instead of MASK should be\n",
            "What is a color of a cardboard? MASK. instead of MASK should be\n",
            "The natural color of a cardboard is MASK. instead of MASK should be\n",
            "A picture of a MASK carrot. instead of MASK should be\n",
            "A photo of a MASK carrot. instead of MASK should be\n",
            "A photo of the MASK carrot. instead of MASK should be\n",
            "A MASK carrot. instead of MASK should be\n",
            "MASK carrot. instead of MASK should be\n",
            "The normal color of a carrot is MASK. instead of MASK should be\n",
            "carrot usually has a MASK color. instead of MASK should be\n",
            "carrots have a MASK color. instead of MASK should be\n",
            "What is a color of a carrot? MASK. instead of MASK should be\n",
            "The natural color of a carrot is MASK. instead of MASK should be\n",
            "A picture of a MASK cauliflower. instead of MASK should be\n",
            "A photo of a MASK cauliflower. instead of MASK should be\n",
            "A photo of the MASK cauliflower. instead of MASK should be\n",
            "A MASK cauliflower. instead of MASK should be\n",
            "MASK cauliflower. instead of MASK should be\n",
            "The normal color of a cauliflower is MASK. instead of MASK should be\n",
            "cauliflower usually has a MASK color. instead of MASK should be\n",
            "cauliflowers have a MASK color. instead of MASK should be\n",
            "What is a color of a cauliflower? MASK. instead of MASK should be\n",
            "The natural color of a cauliflower is MASK. instead of MASK should be\n",
            "A picture of a MASK cello. instead of MASK should be\n",
            "A photo of a MASK cello. instead of MASK should be\n",
            "A photo of the MASK cello. instead of MASK should be\n",
            "A MASK cello. instead of MASK should be\n",
            "MASK cello. instead of MASK should be\n",
            "The normal color of a cello is MASK. instead of MASK should be\n",
            "cello usually has a MASK color. instead of MASK should be\n",
            "cellos have a MASK color. instead of MASK should be\n",
            "What is a color of a cello? MASK. instead of MASK should be\n",
            "The natural color of a cello is MASK. instead of MASK should be\n",
            "A picture of a MASK chalk. instead of MASK should be\n",
            "A photo of a MASK chalk. instead of MASK should be\n",
            "A photo of the MASK chalk. instead of MASK should be\n",
            "A MASK chalk. instead of MASK should be\n",
            "MASK chalk. instead of MASK should be\n",
            "The normal color of a chalk is MASK. instead of MASK should be\n",
            "chalk usually has a MASK color. instead of MASK should be\n",
            "chalks have a MASK color. instead of MASK should be\n",
            "What is a color of a chalk? MASK. instead of MASK should be\n",
            "The natural color of a chalk is MASK. instead of MASK should be\n",
            "A picture of a MASK cherry. instead of MASK should be\n",
            "A photo of a MASK cherry. instead of MASK should be\n",
            "A photo of the MASK cherry. instead of MASK should be\n",
            "A MASK cherry. instead of MASK should be\n",
            "MASK cherry. instead of MASK should be\n",
            "The normal color of a cherry is MASK. instead of MASK should be\n",
            "cherry usually has a MASK color. instead of MASK should be\n",
            "cherrys have a MASK color. instead of MASK should be\n",
            "What is a color of a cherry? MASK. instead of MASK should be\n",
            "The natural color of a cherry is MASK. instead of MASK should be\n",
            "A picture of a MASK cloud. instead of MASK should be\n",
            "A photo of a MASK cloud. instead of MASK should be\n",
            "A photo of the MASK cloud. instead of MASK should be\n",
            "A MASK cloud. instead of MASK should be\n",
            "MASK cloud. instead of MASK should be\n",
            "The normal color of a cloud is MASK. instead of MASK should be\n",
            "cloud usually has a MASK color. instead of MASK should be\n",
            "clouds have a MASK color. instead of MASK should be\n",
            "What is a color of a cloud? MASK. instead of MASK should be\n",
            "The natural color of a cloud is MASK. instead of MASK should be\n",
            "A picture of a MASK clover. instead of MASK should be\n",
            "A photo of a MASK clover. instead of MASK should be\n",
            "A photo of the MASK clover. instead of MASK should be\n",
            "A MASK clover. instead of MASK should be\n",
            "MASK clover. instead of MASK should be\n",
            "The normal color of a clover is MASK. instead of MASK should be\n",
            "clover usually has a MASK color. instead of MASK should be\n",
            "clovers have a MASK color. instead of MASK should be\n",
            "What is a color of a clover? MASK. instead of MASK should be\n",
            "The natural color of a clover is MASK. instead of MASK should be\n",
            "A picture of a MASK coal. instead of MASK should be\n",
            "A photo of a MASK coal. instead of MASK should be\n",
            "A photo of the MASK coal. instead of MASK should be\n",
            "A MASK coal. instead of MASK should be\n",
            "MASK coal. instead of MASK should be\n",
            "The normal color of a coal is MASK. instead of MASK should be\n",
            "coal usually has a MASK color. instead of MASK should be\n",
            "coals have a MASK color. instead of MASK should be\n",
            "What is a color of a coal? MASK. instead of MASK should be\n",
            "The natural color of a coal is MASK. instead of MASK should be\n",
            "A picture of a MASK cockroach. instead of MASK should be\n",
            "A photo of a MASK cockroach. instead of MASK should be\n",
            "A photo of the MASK cockroach. instead of MASK should be\n",
            "A MASK cockroach. instead of MASK should be\n",
            "MASK cockroach. instead of MASK should be\n",
            "The normal color of a cockroach is MASK. instead of MASK should be\n",
            "cockroach usually has a MASK color. instead of MASK should be\n",
            "cockroachs have a MASK color. instead of MASK should be\n",
            "What is a color of a cockroach? MASK. instead of MASK should be\n",
            "The natural color of a cockroach is MASK. instead of MASK should be\n",
            "A picture of a MASK coffee. instead of MASK should be\n",
            "A photo of a MASK coffee. instead of MASK should be\n",
            "A photo of the MASK coffee. instead of MASK should be\n",
            "A MASK coffee. instead of MASK should be\n",
            "MASK coffee. instead of MASK should be\n",
            "The normal color of a coffee is MASK. instead of MASK should be\n",
            "coffee usually has a MASK color. instead of MASK should be\n",
            "coffees have a MASK color. instead of MASK should be\n",
            "What is a color of a coffee? MASK. instead of MASK should be\n",
            "The natural color of a coffee is MASK. instead of MASK should be\n",
            "A picture of a MASK corn. instead of MASK should be\n",
            "A photo of a MASK corn. instead of MASK should be\n",
            "A photo of the MASK corn. instead of MASK should be\n",
            "A MASK corn. instead of MASK should be\n",
            "MASK corn. instead of MASK should be\n",
            "The normal color of a corn is MASK. instead of MASK should be\n",
            "corn usually has a MASK color. instead of MASK should be\n",
            "corns have a MASK color. instead of MASK should be\n",
            "What is a color of a corn? MASK. instead of MASK should be\n",
            "The natural color of a corn is MASK. instead of MASK should be\n",
            "A picture of a MASK cotton. instead of MASK should be\n",
            "A photo of a MASK cotton. instead of MASK should be\n",
            "A photo of the MASK cotton. instead of MASK should be\n",
            "A MASK cotton. instead of MASK should be\n",
            "MASK cotton. instead of MASK should be\n",
            "The normal color of a cotton is MASK. instead of MASK should be\n",
            "cotton usually has a MASK color. instead of MASK should be\n",
            "cottons have a MASK color. instead of MASK should be\n",
            "What is a color of a cotton? MASK. instead of MASK should be\n",
            "The natural color of a cotton is MASK. instead of MASK should be\n",
            "A picture of a MASK crow. instead of MASK should be\n",
            "A photo of a MASK crow. instead of MASK should be\n",
            "A photo of the MASK crow. instead of MASK should be\n",
            "A MASK crow. instead of MASK should be\n",
            "MASK crow. instead of MASK should be\n",
            "The normal color of a crow is MASK. instead of MASK should be\n",
            "crow usually has a MASK color. instead of MASK should be\n",
            "crows have a MASK color. instead of MASK should be\n",
            "What is a color of a crow? MASK. instead of MASK should be\n",
            "The natural color of a crow is MASK. instead of MASK should be\n",
            "A picture of a MASK deer. instead of MASK should be\n",
            "A photo of a MASK deer. instead of MASK should be\n",
            "A photo of the MASK deer. instead of MASK should be\n",
            "A MASK deer. instead of MASK should be\n",
            "MASK deer. instead of MASK should be\n",
            "The normal color of a deer is MASK. instead of MASK should be\n",
            "deer usually has a MASK color. instead of MASK should be\n",
            "deers have a MASK color. instead of MASK should be\n",
            "What is a color of a deer? MASK. instead of MASK should be\n",
            "The natural color of a deer is MASK. instead of MASK should be\n",
            "A picture of a MASK dolphin. instead of MASK should be\n",
            "A photo of a MASK dolphin. instead of MASK should be\n",
            "A photo of the MASK dolphin. instead of MASK should be\n",
            "A MASK dolphin. instead of MASK should be\n",
            "MASK dolphin. instead of MASK should be\n",
            "The normal color of a dolphin is MASK. instead of MASK should be\n",
            "dolphin usually has a MASK color. instead of MASK should be\n",
            "dolphins have a MASK color. instead of MASK should be\n",
            "What is a color of a dolphin? MASK. instead of MASK should be\n",
            "The natural color of a dolphin is MASK. instead of MASK should be\n",
            "A picture of a MASK elephant. instead of MASK should be\n",
            "A photo of a MASK elephant. instead of MASK should be\n",
            "A photo of the MASK elephant. instead of MASK should be\n",
            "A MASK elephant. instead of MASK should be\n",
            "MASK elephant. instead of MASK should be\n",
            "The normal color of a elephant is MASK. instead of MASK should be\n",
            "elephant usually has a MASK color. instead of MASK should be\n",
            "elephants have a MASK color. instead of MASK should be\n",
            "What is a color of a elephant? MASK. instead of MASK should be\n",
            "The natural color of a elephant is MASK. instead of MASK should be\n",
            "A picture of a MASK flour. instead of MASK should be\n",
            "A photo of a MASK flour. instead of MASK should be\n",
            "A photo of the MASK flour. instead of MASK should be\n",
            "A MASK flour. instead of MASK should be\n",
            "MASK flour. instead of MASK should be\n",
            "The normal color of a flour is MASK. instead of MASK should be\n",
            "flour usually has a MASK color. instead of MASK should be\n",
            "flours have a MASK color. instead of MASK should be\n",
            "What is a color of a flour? MASK. instead of MASK should be\n",
            "The natural color of a flour is MASK. instead of MASK should be\n",
            "A picture of a MASK foam. instead of MASK should be\n",
            "A photo of a MASK foam. instead of MASK should be\n",
            "A photo of the MASK foam. instead of MASK should be\n",
            "A MASK foam. instead of MASK should be\n",
            "MASK foam. instead of MASK should be\n",
            "The normal color of a foam is MASK. instead of MASK should be\n",
            "foam usually has a MASK color. instead of MASK should be\n",
            "foams have a MASK color. instead of MASK should be\n",
            "What is a color of a foam? MASK. instead of MASK should be\n",
            "The natural color of a foam is MASK. instead of MASK should be\n",
            "A picture of a MASK fog. instead of MASK should be\n",
            "A photo of a MASK fog. instead of MASK should be\n",
            "A photo of the MASK fog. instead of MASK should be\n",
            "A MASK fog. instead of MASK should be\n",
            "MASK fog. instead of MASK should be\n",
            "The normal color of a fog is MASK. instead of MASK should be\n",
            "fog usually has a MASK color. instead of MASK should be\n",
            "fogs have a MASK color. instead of MASK should be\n",
            "What is a color of a fog? MASK. instead of MASK should be\n",
            "The natural color of a fog is MASK. instead of MASK should be\n",
            "A picture of a MASK forest. instead of MASK should be\n",
            "A photo of a MASK forest. instead of MASK should be\n",
            "A photo of the MASK forest. instead of MASK should be\n",
            "A MASK forest. instead of MASK should be\n",
            "MASK forest. instead of MASK should be\n",
            "The normal color of a forest is MASK. instead of MASK should be\n",
            "forest usually has a MASK color. instead of MASK should be\n",
            "forests have a MASK color. instead of MASK should be\n",
            "What is a color of a forest? MASK. instead of MASK should be\n",
            "The natural color of a forest is MASK. instead of MASK should be\n",
            "A picture of a MASK froth. instead of MASK should be\n",
            "A photo of a MASK froth. instead of MASK should be\n",
            "A photo of the MASK froth. instead of MASK should be\n",
            "A MASK froth. instead of MASK should be\n",
            "MASK froth. instead of MASK should be\n",
            "The normal color of a froth is MASK. instead of MASK should be\n",
            "froth usually has a MASK color. instead of MASK should be\n",
            "froths have a MASK color. instead of MASK should be\n",
            "What is a color of a froth? MASK. instead of MASK should be\n",
            "The natural color of a froth is MASK. instead of MASK should be\n",
            "A picture of a MASK garlic. instead of MASK should be\n",
            "A photo of a MASK garlic. instead of MASK should be\n",
            "A photo of the MASK garlic. instead of MASK should be\n",
            "A MASK garlic. instead of MASK should be\n",
            "MASK garlic. instead of MASK should be\n",
            "The normal color of a garlic is MASK. instead of MASK should be\n",
            "garlic usually has a MASK color. instead of MASK should be\n",
            "garlics have a MASK color. instead of MASK should be\n",
            "What is a color of a garlic? MASK. instead of MASK should be\n",
            "The natural color of a garlic is MASK. instead of MASK should be\n",
            "A picture of a MASK gold. instead of MASK should be\n",
            "A photo of a MASK gold. instead of MASK should be\n",
            "A photo of the MASK gold. instead of MASK should be\n",
            "A MASK gold. instead of MASK should be\n",
            "MASK gold. instead of MASK should be\n",
            "The normal color of a gold is MASK. instead of MASK should be\n",
            "gold usually has a MASK color. instead of MASK should be\n",
            "golds have a MASK color. instead of MASK should be\n",
            "What is a color of a gold? MASK. instead of MASK should be\n",
            "The natural color of a gold is MASK. instead of MASK should be\n",
            "A picture of a MASK gorilla. instead of MASK should be\n",
            "A photo of a MASK gorilla. instead of MASK should be\n",
            "A photo of the MASK gorilla. instead of MASK should be\n",
            "A MASK gorilla. instead of MASK should be\n",
            "MASK gorilla. instead of MASK should be\n",
            "The normal color of a gorilla is MASK. instead of MASK should be\n",
            "gorilla usually has a MASK color. instead of MASK should be\n",
            "gorillas have a MASK color. instead of MASK should be\n",
            "What is a color of a gorilla? MASK. instead of MASK should be\n",
            "The natural color of a gorilla is MASK. instead of MASK should be\n",
            "A picture of a MASK grass. instead of MASK should be\n",
            "A photo of a MASK grass. instead of MASK should be\n",
            "A photo of the MASK grass. instead of MASK should be\n",
            "A MASK grass. instead of MASK should be\n",
            "MASK grass. instead of MASK should be\n",
            "The normal color of a grass is MASK. instead of MASK should be\n",
            "grass usually has a MASK color. instead of MASK should be\n",
            "grasss have a MASK color. instead of MASK should be\n",
            "What is a color of a grass? MASK. instead of MASK should be\n",
            "The natural color of a grass is MASK. instead of MASK should be\n",
            "A picture of a MASK lettuce. instead of MASK should be\n",
            "A photo of a MASK lettuce. instead of MASK should be\n",
            "A photo of the MASK lettuce. instead of MASK should be\n",
            "A MASK lettuce. instead of MASK should be\n",
            "MASK lettuce. instead of MASK should be\n",
            "The normal color of a lettuce is MASK. instead of MASK should be\n",
            "lettuce usually has a MASK color. instead of MASK should be\n",
            "lettuces have a MASK color. instead of MASK should be\n",
            "What is a color of a lettuce? MASK. instead of MASK should be\n",
            "The natural color of a lettuce is MASK. instead of MASK should be\n",
            "A picture of a MASK mud. instead of MASK should be\n",
            "A photo of a MASK mud. instead of MASK should be\n",
            "A photo of the MASK mud. instead of MASK should be\n",
            "A MASK mud. instead of MASK should be\n",
            "MASK mud. instead of MASK should be\n",
            "The normal color of a mud is MASK. instead of MASK should be\n",
            "mud usually has a MASK color. instead of MASK should be\n",
            "muds have a MASK color. instead of MASK should be\n",
            "What is a color of a mud? MASK. instead of MASK should be\n",
            "The natural color of a mud is MASK. instead of MASK should be\n",
            "A picture of a MASK mustard. instead of MASK should be\n",
            "A photo of a MASK mustard. instead of MASK should be\n",
            "A photo of the MASK mustard. instead of MASK should be\n",
            "A MASK mustard. instead of MASK should be\n",
            "MASK mustard. instead of MASK should be\n",
            "The normal color of a mustard is MASK. instead of MASK should be\n",
            "mustard usually has a MASK color. instead of MASK should be\n",
            "mustards have a MASK color. instead of MASK should be\n",
            "What is a color of a mustard? MASK. instead of MASK should be\n",
            "The natural color of a mustard is MASK. instead of MASK should be\n",
            "A picture of a MASK parsley. instead of MASK should be\n",
            "A photo of a MASK parsley. instead of MASK should be\n",
            "A photo of the MASK parsley. instead of MASK should be\n",
            "A MASK parsley. instead of MASK should be\n",
            "MASK parsley. instead of MASK should be\n",
            "The normal color of a parsley is MASK. instead of MASK should be\n",
            "parsley usually has a MASK color. instead of MASK should be\n",
            "parsleys have a MASK color. instead of MASK should be\n",
            "What is a color of a parsley? MASK. instead of MASK should be\n",
            "The natural color of a parsley is MASK. instead of MASK should be\n",
            "A picture of a MASK pig. instead of MASK should be\n",
            "A photo of a MASK pig. instead of MASK should be\n",
            "A photo of the MASK pig. instead of MASK should be\n",
            "A MASK pig. instead of MASK should be\n",
            "MASK pig. instead of MASK should be\n",
            "The normal color of a pig is MASK. instead of MASK should be\n",
            "pig usually has a MASK color. instead of MASK should be\n",
            "pigs have a MASK color. instead of MASK should be\n",
            "What is a color of a pig? MASK. instead of MASK should be\n",
            "The natural color of a pig is MASK. instead of MASK should be\n",
            "A picture of a MASK salad. instead of MASK should be\n",
            "A photo of a MASK salad. instead of MASK should be\n",
            "A photo of the MASK salad. instead of MASK should be\n",
            "A MASK salad. instead of MASK should be\n",
            "MASK salad. instead of MASK should be\n",
            "The normal color of a salad is MASK. instead of MASK should be\n",
            "salad usually has a MASK color. instead of MASK should be\n",
            "salads have a MASK color. instead of MASK should be\n",
            "What is a color of a salad? MASK. instead of MASK should be\n",
            "The natural color of a salad is MASK. instead of MASK should be\n",
            "A picture of a MASK sea. instead of MASK should be\n",
            "A photo of a MASK sea. instead of MASK should be\n",
            "A photo of the MASK sea. instead of MASK should be\n",
            "A MASK sea. instead of MASK should be\n",
            "MASK sea. instead of MASK should be\n",
            "The normal color of a sea is MASK. instead of MASK should be\n",
            "sea usually has a MASK color. instead of MASK should be\n",
            "seas have a MASK color. instead of MASK should be\n",
            "What is a color of a sea? MASK. instead of MASK should be\n",
            "The natural color of a sea is MASK. instead of MASK should be\n",
            "A picture of a MASK shadow. instead of MASK should be\n",
            "A photo of a MASK shadow. instead of MASK should be\n",
            "A photo of the MASK shadow. instead of MASK should be\n",
            "A MASK shadow. instead of MASK should be\n",
            "MASK shadow. instead of MASK should be\n",
            "The normal color of a shadow is MASK. instead of MASK should be\n",
            "shadow usually has a MASK color. instead of MASK should be\n",
            "shadows have a MASK color. instead of MASK should be\n",
            "What is a color of a shadow? MASK. instead of MASK should be\n",
            "The natural color of a shadow is MASK. instead of MASK should be\n",
            "A picture of a MASK silhouette. instead of MASK should be\n",
            "A photo of a MASK silhouette. instead of MASK should be\n",
            "A photo of the MASK silhouette. instead of MASK should be\n",
            "A MASK silhouette. instead of MASK should be\n",
            "MASK silhouette. instead of MASK should be\n",
            "The normal color of a silhouette is MASK. instead of MASK should be\n",
            "silhouette usually has a MASK color. instead of MASK should be\n",
            "silhouettes have a MASK color. instead of MASK should be\n",
            "What is a color of a silhouette? MASK. instead of MASK should be\n",
            "The natural color of a silhouette is MASK. instead of MASK should be\n",
            "A picture of a MASK sky. instead of MASK should be\n",
            "A photo of a MASK sky. instead of MASK should be\n",
            "A photo of the MASK sky. instead of MASK should be\n",
            "A MASK sky. instead of MASK should be\n",
            "MASK sky. instead of MASK should be\n",
            "The normal color of a sky is MASK. instead of MASK should be\n",
            "sky usually has a MASK color. instead of MASK should be\n",
            "skys have a MASK color. instead of MASK should be\n",
            "What is a color of a sky? MASK. instead of MASK should be\n",
            "The natural color of a sky is MASK. instead of MASK should be\n",
            "A picture of a MASK slate. instead of MASK should be\n",
            "A photo of a MASK slate. instead of MASK should be\n",
            "A photo of the MASK slate. instead of MASK should be\n",
            "A MASK slate. instead of MASK should be\n",
            "MASK slate. instead of MASK should be\n",
            "The normal color of a slate is MASK. instead of MASK should be\n",
            "slate usually has a MASK color. instead of MASK should be\n",
            "slates have a MASK color. instead of MASK should be\n",
            "What is a color of a slate? MASK. instead of MASK should be\n",
            "The natural color of a slate is MASK. instead of MASK should be\n",
            "A picture of a MASK snow. instead of MASK should be\n",
            "A photo of a MASK snow. instead of MASK should be\n",
            "A photo of the MASK snow. instead of MASK should be\n",
            "A MASK snow. instead of MASK should be\n",
            "MASK snow. instead of MASK should be\n",
            "The normal color of a snow is MASK. instead of MASK should be\n",
            "snow usually has a MASK color. instead of MASK should be\n",
            "snows have a MASK color. instead of MASK should be\n",
            "What is a color of a snow? MASK. instead of MASK should be\n",
            "The natural color of a snow is MASK. instead of MASK should be\n",
            "A picture of a MASK soil. instead of MASK should be\n",
            "A photo of a MASK soil. instead of MASK should be\n",
            "A photo of the MASK soil. instead of MASK should be\n",
            "A MASK soil. instead of MASK should be\n",
            "MASK soil. instead of MASK should be\n",
            "The normal color of a soil is MASK. instead of MASK should be\n",
            "soil usually has a MASK color. instead of MASK should be\n",
            "soils have a MASK color. instead of MASK should be\n",
            "What is a color of a soil? MASK. instead of MASK should be\n",
            "The natural color of a soil is MASK. instead of MASK should be\n",
            "A picture of a MASK spinach. instead of MASK should be\n",
            "A photo of a MASK spinach. instead of MASK should be\n",
            "A photo of the MASK spinach. instead of MASK should be\n",
            "A MASK spinach. instead of MASK should be\n",
            "MASK spinach. instead of MASK should be\n",
            "The normal color of a spinach is MASK. instead of MASK should be\n",
            "spinach usually has a MASK color. instead of MASK should be\n",
            "spinachs have a MASK color. instead of MASK should be\n",
            "What is a color of a spinach? MASK. instead of MASK should be\n",
            "The natural color of a spinach is MASK. instead of MASK should be\n",
            "A picture of a MASK strawberry. instead of MASK should be\n",
            "A photo of a MASK strawberry. instead of MASK should be\n",
            "A photo of the MASK strawberry. instead of MASK should be\n",
            "A MASK strawberry. instead of MASK should be\n",
            "MASK strawberry. instead of MASK should be\n",
            "The normal color of a strawberry is MASK. instead of MASK should be\n",
            "strawberry usually has a MASK color. instead of MASK should be\n",
            "strawberrys have a MASK color. instead of MASK should be\n",
            "What is a color of a strawberry? MASK. instead of MASK should be\n",
            "The natural color of a strawberry is MASK. instead of MASK should be\n",
            "A picture of a MASK swan. instead of MASK should be\n",
            "A photo of a MASK swan. instead of MASK should be\n",
            "A photo of the MASK swan. instead of MASK should be\n",
            "A MASK swan. instead of MASK should be\n",
            "MASK swan. instead of MASK should be\n",
            "The normal color of a swan is MASK. instead of MASK should be\n",
            "swan usually has a MASK color. instead of MASK should be\n",
            "swans have a MASK color. instead of MASK should be\n",
            "What is a color of a swan? MASK. instead of MASK should be\n",
            "The natural color of a swan is MASK. instead of MASK should be\n",
            "A picture of a MASK tin. instead of MASK should be\n",
            "A photo of a MASK tin. instead of MASK should be\n",
            "A photo of the MASK tin. instead of MASK should be\n",
            "A MASK tin. instead of MASK should be\n",
            "MASK tin. instead of MASK should be\n",
            "The normal color of a tin is MASK. instead of MASK should be\n",
            "tin usually has a MASK color. instead of MASK should be\n",
            "tins have a MASK color. instead of MASK should be\n",
            "What is a color of a tin? MASK. instead of MASK should be\n",
            "The natural color of a tin is MASK. instead of MASK should be\n",
            "A picture of a MASK vinyl. instead of MASK should be\n",
            "A photo of a MASK vinyl. instead of MASK should be\n",
            "A photo of the MASK vinyl. instead of MASK should be\n",
            "A MASK vinyl. instead of MASK should be\n",
            "MASK vinyl. instead of MASK should be\n",
            "The normal color of a vinyl is MASK. instead of MASK should be\n",
            "vinyl usually has a MASK color. instead of MASK should be\n",
            "vinyls have a MASK color. instead of MASK should be\n",
            "What is a color of a vinyl? MASK. instead of MASK should be\n",
            "The natural color of a vinyl is MASK. instead of MASK should be\n",
            "A picture of a MASK violin. instead of MASK should be\n",
            "A photo of a MASK violin. instead of MASK should be\n",
            "A photo of the MASK violin. instead of MASK should be\n",
            "A MASK violin. instead of MASK should be\n",
            "MASK violin. instead of MASK should be\n",
            "The normal color of a violin is MASK. instead of MASK should be\n",
            "violin usually has a MASK color. instead of MASK should be\n",
            "violins have a MASK color. instead of MASK should be\n",
            "What is a color of a violin? MASK. instead of MASK should be\n",
            "The natural color of a violin is MASK. instead of MASK should be\n",
            "A picture of a MASK weed. instead of MASK should be\n",
            "A photo of a MASK weed. instead of MASK should be\n",
            "A photo of the MASK weed. instead of MASK should be\n",
            "A MASK weed. instead of MASK should be\n",
            "MASK weed. instead of MASK should be\n",
            "The normal color of a weed is MASK. instead of MASK should be\n",
            "weed usually has a MASK color. instead of MASK should be\n",
            "weeds have a MASK color. instead of MASK should be\n",
            "What is a color of a weed? MASK. instead of MASK should be\n",
            "The natural color of a weed is MASK. instead of MASK should be\n",
            "A picture of a MASK wood. instead of MASK should be\n",
            "A photo of a MASK wood. instead of MASK should be\n",
            "A photo of the MASK wood. instead of MASK should be\n",
            "A MASK wood. instead of MASK should be\n",
            "MASK wood. instead of MASK should be\n",
            "The normal color of a wood is MASK. instead of MASK should be\n",
            "wood usually has a MASK color. instead of MASK should be\n",
            "woods have a MASK color. instead of MASK should be\n",
            "What is a color of a wood? MASK. instead of MASK should be\n",
            "The natural color of a wood is MASK. instead of MASK should be\n"
          ]
        },
        {
          "name": "stderr",
          "output_type": "stream",
          "text": [
            "/usr/local/lib/python3.10/dist-packages/numpy/lib/function_base.py:495: RuntimeWarning: Mean of empty slice.\n",
            "  avg = a.mean(axis)\n",
            "/usr/local/lib/python3.10/dist-packages/numpy/core/_methods.py:189: RuntimeWarning: invalid value encountered in double_scalars\n",
            "  ret = ret.dtype.type(ret / rcount)\n"
          ]
        },
        {
          "data": {
            "text/plain": [
              "nan"
            ]
          },
          "execution_count": 23,
          "metadata": {},
          "output_type": "execute_result"
        }
      ],
      "source": [
        "y_true, y_pred = retrieve_results_nooptions('. instead of MASK should be', colors_orig_prompts, max_new=1)\n",
        "accuracy_score(y_true, y_pred)"
      ]
    },
    {
      "cell_type": "code",
      "execution_count": null,
      "metadata": {
        "colab": {
          "base_uri": "https://localhost:8080/"
        },
        "id": "oNHb6AFOne-Y",
        "outputId": "d9ec8cde-ce98-4f4d-8ebe-7e214fdc224c"
      },
      "outputs": [
        {
          "data": {
            "text/plain": [
              "0.00392156862745098"
            ]
          },
          "execution_count": 17,
          "metadata": {},
          "output_type": "execute_result"
        }
      ],
      "source": [
        "y_true, y_pred = retrieve_results_nooptions('. MASK can be replaced with', colors_orig_prompts, max_new=1)\n",
        "accuracy_score(y_true, y_pred)"
      ]
    },
    {
      "cell_type": "code",
      "execution_count": null,
      "metadata": {
        "colab": {
          "background_save": true
        },
        "id": "QTJJXsp46eBk",
        "outputId": "20283df0-68a0-4045-a957-36b373a33b83"
      },
      "outputs": [
        {
          "data": {
            "text/plain": [
              "0.36470588235294116"
            ]
          },
          "execution_count": 19,
          "metadata": {},
          "output_type": "execute_result"
        }
      ],
      "source": [
        "y_true, y_pred = retrieve_results_nooptions('. Fill in the MASK: ', colors_orig_prompts, max_new=1)\n",
        "accuracy_score(y_true, y_pred)"
      ]
    },
    {
      "cell_type": "code",
      "execution_count": null,
      "metadata": {
        "colab": {
          "base_uri": "https://localhost:8080/"
        },
        "id": "wkmdg9T_8yzi",
        "outputId": "abb37050-7dd0-409d-ba4c-2cafacdacc2c"
      },
      "outputs": [
        {
          "data": {
            "text/plain": [
              "(['yellow',\n",
              "  'yellow',\n",
              "  'yellow',\n",
              "  'yellow',\n",
              "  'yellow',\n",
              "  'yellow',\n",
              "  'yellow',\n",
              "  'yellow',\n",
              "  'yellow',\n",
              "  'yellow'],\n",
              " ['________',\n",
              "  '██',\n",
              "  '████',\n",
              "  'a',\n",
              "  'ban',\n",
              "  'yellow',\n",
              "  'yellow',\n",
              "  'yellow',\n",
              "  'yellow',\n",
              "  'yellow'])"
            ]
          },
          "execution_count": 21,
          "metadata": {},
          "output_type": "execute_result"
        }
      ],
      "source": [
        "y_true[:10], y_pred[:10]"
      ]
    },
    {
      "cell_type": "code",
      "execution_count": null,
      "metadata": {
        "id": "hxyCFKibE4j7"
      },
      "outputs": [],
      "source": [
        ":10"
      ]
    }
  ],
  "metadata": {
    "colab": {
      "provenance": [],
      "authorship_tag": "ABX9TyP30waYDu47iYy0g+04CXsq"
    },
    "kernelspec": {
      "display_name": "Python 3",
      "name": "python3"
    },
    "language_info": {
      "name": "python"
    }
  },
  "nbformat": 4,
  "nbformat_minor": 0
}